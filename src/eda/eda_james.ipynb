{
 "cells": [
  {
   "cell_type": "code",
   "execution_count": null,
   "metadata": {},
   "outputs": [],
   "source": [
    "from utils import set_plot_params\n",
    "\n",
    "import matplotlib.pyplot as plt\n",
    "import pyarrow.parquet   as pq\n",
    "\n",
    "################\n",
    "\n",
    "set_plot_params() # Enables dark mode, larger canvas sizes, a pastel palette, and font sizing considerations\n",
    "\n",
    "df = pq.read_table('../data/cmp/curated/meter-usage') \\\n",
    "       .to_pandas()\n",
    "df"
   ]
  }
 ],
 "metadata": {
  "language_info": {
   "name": "python"
  }
 },
 "nbformat": 4,
 "nbformat_minor": 2
}
