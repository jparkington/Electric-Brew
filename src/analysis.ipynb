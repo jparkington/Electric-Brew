{
 "cells": [
  {
   "cell_type": "code",
   "execution_count": 2,
   "metadata": {},
   "outputs": [
    {
     "name": "stdout",
     "output_type": "stream",
     "text": [
      "Average kWh in January: 0.99\n",
      "Average kWh in December: 1.01\n",
      "Average kWh in April: 0.78\n",
      "Average kWh in May: 0.73\n"
     ]
    }
   ],
   "source": [
    "import pandas as pd\n",
    "\n",
    "from analysis.jp.flat import prepared_data\n",
    "\n",
    "def calculate_monthly_averages(df: pd.DataFrame = prepared_data):\n",
    "    '''\n",
    "    Calculates and prints out average kWh usage for January, December, April, and May.\n",
    "\n",
    "    Parameters:\n",
    "        df (pd.DataFrame): The dataframe containing 'hour', 'month', and 'kwh' columns.\n",
    "    '''\n",
    "\n",
    "    # Calculating average kWh for specific months\n",
    "    for month in [1, 12, 4, 5]:  # January, December, April, May\n",
    "        avg_kwh = df[df['month'] == month]['kwh'].mean()\n",
    "        month_name = pd.to_datetime(f\"{month}\", format=\"%m\").month_name()\n",
    "        print(f\"Average kWh in {month_name}: {avg_kwh:.2f}\")\n",
    "\n",
    "if __name__ == \"__main__\":\n",
    "    calculate_monthly_averages()\n"
   ]
  },
  {
   "cell_type": "code",
   "execution_count": 3,
   "metadata": {},
   "outputs": [
    {
     "name": "stdout",
     "output_type": "stream",
     "text": [
      "Average cost for Mid-peak: 7AM to 5PM, 9PM to 11PM period: $0.16\n",
      "Average cost for Off-peak: 12AM to 7AM period: $0.10\n",
      "Average cost for On-peak: 5PM to 9PM period: $0.15\n"
     ]
    }
   ],
   "source": [
    "import pandas as pd\n",
    "\n",
    "from analysis.jp.flat import prepared_data\n",
    "\n",
    "def calculate_period_average_costs(df: pd.DataFrame = prepared_data):\n",
    "    '''\n",
    "    Calculates and prints out the average costs for mid-peak, off-peak, and on-peak periods.\n",
    "\n",
    "    Parameters:\n",
    "        df (pd.DataFrame): The dataframe containing 'period', 'date', and 'total_cost' columns.\n",
    "    '''\n",
    "\n",
    "    # Grouping by period and calculating the average cost\n",
    "    avg_costs = df.groupby('period')['total_cost'].mean()\n",
    "\n",
    "    for period in avg_costs.index:\n",
    "        print(f\"Average cost for {period} period: ${avg_costs[period]:.2f}\")\n",
    "\n",
    "if __name__ == \"__main__\":\n",
    "    calculate_period_average_costs()\n"
   ]
  },
  {
   "cell_type": "code",
   "execution_count": 4,
   "metadata": {},
   "outputs": [
    {
     "name": "stdout",
     "output_type": "stream",
     "text": [
      "Lowest monthly usage: 6966.835 kWh\n",
      "Highest monthly usage: 15031.381 kWh\n",
      "Average monthly usage before solar power: 11003.24 kWh\n",
      "Average monthly usage after solar power: 12216.07 kWh\n"
     ]
    }
   ],
   "source": [
    "import pandas as pd\n",
    "from utils.runtime import connect_to_db\n",
    "\n",
    "def calculate_energy_usage_stats():\n",
    "    '''\n",
    "    Calculates and prints out the statistics for total energy usage.\n",
    "\n",
    "    Statistics include:\n",
    "        - Lowest and highest monthly kWh usage.\n",
    "        - Average monthly energy usage before and after September 2022.\n",
    "    '''\n",
    "\n",
    "    # Connecting to the database and querying the data\n",
    "    query = \"\"\"\n",
    "        SELECT date, kwh\n",
    "        FROM fct_electric_brew fe\n",
    "        LEFT JOIN dim_datetimes dd ON fe.dim_datetimes_id = dd.id\n",
    "        WHERE dd.date <= '2023-07-31'\n",
    "    \"\"\"\n",
    "    electric_brew = connect_to_db()\n",
    "    df = electric_brew.query(query).to_df()\n",
    "\n",
    "    # Preparing the dataframe\n",
    "    df['month'] = df['date'].dt.to_period('M')\n",
    "    monthly_usage = df.groupby('month')['kwh'].sum()\n",
    "\n",
    "    # Lowest and highest monthly kWh usage\n",
    "    lowest_usage = monthly_usage.min()\n",
    "    highest_usage = monthly_usage.max()\n",
    "    print(f\"Lowest monthly usage: {lowest_usage} kWh\")\n",
    "    print(f\"Highest monthly usage: {highest_usage} kWh\")\n",
    "\n",
    "    # Average usage before and after September 2022\n",
    "    solar_start = pd.Period('2022-09')\n",
    "    avg_usage_pre_solar = monthly_usage[monthly_usage.index < solar_start].mean()\n",
    "    avg_usage_post_solar = monthly_usage[monthly_usage.index >= solar_start].mean()\n",
    "    print(f\"Average monthly usage before solar power: {avg_usage_pre_solar:.2f} kWh\")\n",
    "    print(f\"Average monthly usage after solar power: {avg_usage_post_solar:.2f} kWh\")\n",
    "\n",
    "if __name__ == \"__main__\":\n",
    "    calculate_energy_usage_stats()\n"
   ]
  },
  {
   "cell_type": "code",
   "execution_count": 6,
   "metadata": {},
   "outputs": [
    {
     "name": "stdout",
     "output_type": "stream",
     "text": [
      "Mean monthly total energy cost: $1773.40\n",
      "Mean monthly cost for Solar: $1461.84\n",
      "Mean monthly cost for conventional_supplier: $1074.25\n"
     ]
    }
   ],
   "source": [
    "import pandas as pd\n",
    "from utils.runtime import connect_to_db\n",
    "\n",
    "def calculate_cost_statistics():\n",
    "    '''\n",
    "    Calculates and prints out the mean monthly total energy cost, and mean monthly costs by generation type (solar and conventional).\n",
    "\n",
    "    '''\n",
    "\n",
    "    # Connecting to the database and querying the data\n",
    "    query = \"\"\"\n",
    "        SELECT supplier, date, kwh, total_cost\n",
    "        FROM fct_electric_brew fe\n",
    "        LEFT JOIN dim_datetimes dd ON fe.dim_datetimes_id = dd.id\n",
    "        LEFT JOIN dim_bills db ON fe.dim_bills_id = db.id\n",
    "        WHERE dd.date <= '2023-07-31';\n",
    "    \"\"\"\n",
    "    electric_brew = connect_to_db()\n",
    "    df = electric_brew.query(query).to_df()\n",
    "\n",
    "    # Preparing the dataframe\n",
    "    df['month'] = df['date'].dt.to_period('M')\n",
    "    df.sort_values('date', inplace=True)\n",
    "    df = df.loc[df.total_cost != 0]\n",
    "    df['energy_type'] = df['supplier'].apply(lambda x: 'Solar' if x == 'Ampion' else 'conventional_supplier')\n",
    "\n",
    "    # Mean monthly total energy cost\n",
    "    mean_monthly_cost = df.groupby('month')['total_cost'].sum().mean()\n",
    "    print(f\"Mean monthly total energy cost: ${mean_monthly_cost:.2f}\")\n",
    "\n",
    "    # Monthly costs by generation type\n",
    "    monthly_costs_by_type = df.groupby(['energy_type', 'month'])['total_cost'].sum()\n",
    "    mean_monthly_costs_by_type = monthly_costs_by_type.groupby('energy_type').mean()\n",
    "    for energy_type in mean_monthly_costs_by_type.index:\n",
    "        print(f\"Mean monthly cost for {energy_type}: ${mean_monthly_costs_by_type[energy_type]:.2f}\")\n",
    "\n",
    "if __name__ == \"__main__\":\n",
    "    calculate_cost_statistics()\n"
   ]
  },
  {
   "cell_type": "code",
   "execution_count": 11,
   "metadata": {},
   "outputs": [
    {
     "name": "stdout",
     "output_type": "stream",
     "text": [
      "Average actual cost per month: $2362.32\n",
      "Average projected cost per month under full solar: $2524.36\n",
      "Average cost per kWh for solar energy: $0.224\n",
      "Standard deviation of the cost per kWh for solar energy: $0.025\n",
      "Significant months (with percentage difference > 10%):\n",
      "  - 2022-12: 50.31%\n",
      "  - 2023-01: 36.41%\n"
     ]
    }
   ],
   "source": [
    "import pandas as pd\n",
    "from utils.runtime import connect_to_db\n",
    "\n",
    "def calculate_solar_projections_statistics():\n",
    "    '''\n",
    "    Calculates and prints out detailed statistics for actual vs. projected energy costs in a hypothetical full solar scenario,\n",
    "    and identifies months with significant cost differences.\n",
    "\n",
    "    Statistics include:\n",
    "        - Average actual cost per month.\n",
    "        - Average projected cost per month under full solar.\n",
    "        - Average cost per kWh for solar energy.\n",
    "        - Standard deviation of the cost per kWh for solar energy.\n",
    "        - Months with notably high percentage differences.\n",
    "    '''\n",
    "\n",
    "    # Connecting to the database and querying the data\n",
    "    query = \"\"\"\n",
    "        SELECT supplier, date, kwh, total_cost\n",
    "        FROM fct_electric_brew fe\n",
    "        LEFT JOIN dim_datetimes dd ON fe.dim_datetimes_id = dd.id\n",
    "        LEFT JOIN dim_bills db ON fe.dim_bills_id = db.id\n",
    "        WHERE dd.date >= '2022-09-01' AND dd.date <= '2023-07-31';\n",
    "    \"\"\"\n",
    "    electric_brew = connect_to_db()\n",
    "    df = electric_brew.query(query).to_df()\n",
    "\n",
    "    # Engineering the dataframe\n",
    "    df['month'] = df['date'].dt.to_period('M') \n",
    "    df.sort_values('date', inplace=True)\n",
    "    df = df.loc[df.total_cost != 0]\n",
    "    df['energy_type'] = df['supplier'].apply(lambda x: 'Solar' if x == 'Ampion' else 'conventional_supplier')\n",
    "    df_grouped = df.groupby(['month', 'energy_type'], sort=False).agg({'total_cost': 'sum', 'kwh': 'sum'}).unstack(fill_value=0)\n",
    "    df_grouped['solar_cost_per_kwh'] = df_grouped['total_cost']['Solar'] / df_grouped['kwh']['Solar']\n",
    "    df_grouped['total_kwh'] = df_grouped['kwh']['Solar'] + df_grouped['kwh']['conventional_supplier']\n",
    "    df_grouped['total_cost_2'] = df_grouped['total_cost']['Solar'] + df_grouped['total_cost']['conventional_supplier']\n",
    "    df_grouped['projected_costs'] = df_grouped['solar_cost_per_kwh'] * df_grouped['total_kwh']\n",
    "\n",
    "    # Calculating statistics\n",
    "    avg_actual_cost_per_month = df_grouped['total_cost_2'].mean()\n",
    "    avg_projected_cost_per_month = df_grouped['projected_costs'].mean()\n",
    "    avg_cost_per_kwh_solar = df_grouped['solar_cost_per_kwh'].mean()\n",
    "    std_dev_cost_per_kwh_solar = df_grouped['solar_cost_per_kwh'].std()\n",
    "\n",
    "    # Calculate percentage differences for all months\n",
    "    percent_diff = (((df_grouped['projected_costs'] - df_grouped['total_cost_2']) / df_grouped['total_cost_2']) * 100)\n",
    "\n",
    "    # Identify significant months\n",
    "    significant_months = percent_diff[percent_diff.abs() > 10]  # Threshold for significance set at 10%\n",
    "\n",
    "    print(f\"Average actual cost per month: ${avg_actual_cost_per_month:.2f}\")\n",
    "    print(f\"Average projected cost per month under full solar: ${avg_projected_cost_per_month:.2f}\")\n",
    "    print(f\"Average cost per kWh for solar energy: ${avg_cost_per_kwh_solar:.3f}\")\n",
    "    print(f\"Standard deviation of the cost per kWh for solar energy: ${std_dev_cost_per_kwh_solar:.3f}\")\n",
    "    print(\"Significant months (with percentage difference > 10%):\")\n",
    "    for month, diff in significant_months.items():\n",
    "        print(f\"  - {month}: {diff:.2f}%\")\n",
    "\n",
    "    electric_brew.close()\n",
    "\n",
    "if __name__ == \"__main__\":\n",
    "    calculate_solar_projections_statistics()\n"
   ]
  }
 ],
 "metadata": {
  "kernelspec": {
   "display_name": "electric-brew",
   "language": "python",
   "name": "python3"
  },
  "language_info": {
   "codemirror_mode": {
    "name": "ipython",
    "version": 3
   },
   "file_extension": ".py",
   "mimetype": "text/x-python",
   "name": "python",
   "nbconvert_exporter": "python",
   "pygments_lexer": "ipython3",
   "version": "3.11.7"
  }
 },
 "nbformat": 4,
 "nbformat_minor": 2
}
