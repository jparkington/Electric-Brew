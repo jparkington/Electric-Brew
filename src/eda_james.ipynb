{
 "cells": [
  {
   "cell_type": "code",
   "execution_count": 12,
   "metadata": {},
   "outputs": [
    {
     "ename": "ModuleNotFoundError",
     "evalue": "No module named 'src'",
     "output_type": "error",
     "traceback": [
      "\u001b[0;31m---------------------------------------------------------------------------\u001b[0m",
      "\u001b[0;31mModuleNotFoundError\u001b[0m                       Traceback (most recent call last)",
      "\u001b[1;32m/Users/Macington/Documents/Projects/Electric Brew/src/eda/eda_james.ipynb Cell 1\u001b[0m line \u001b[0;36m1\n\u001b[0;32m----> <a href='vscode-notebook-cell:/Users/Macington/Documents/Projects/Electric%20Brew/src/eda/eda_james.ipynb#W0sZmlsZQ%3D%3D?line=0'>1</a>\u001b[0m \u001b[39mfrom\u001b[39;00m \u001b[39msrc\u001b[39;00m\u001b[39m.\u001b[39;00m\u001b[39mutils\u001b[39;00m \u001b[39mimport\u001b[39;00m set_plot_params\n\u001b[1;32m      <a href='vscode-notebook-cell:/Users/Macington/Documents/Projects/Electric%20Brew/src/eda/eda_james.ipynb#W0sZmlsZQ%3D%3D?line=2'>3</a>\u001b[0m \u001b[39mimport\u001b[39;00m \u001b[39mpyarrow\u001b[39;00m\u001b[39m.\u001b[39;00m\u001b[39mparquet\u001b[39;00m   \u001b[39mas\u001b[39;00m \u001b[39mpq\u001b[39;00m\n\u001b[1;32m      <a href='vscode-notebook-cell:/Users/Macington/Documents/Projects/Electric%20Brew/src/eda/eda_james.ipynb#W0sZmlsZQ%3D%3D?line=4'>5</a>\u001b[0m set_plot_params() \u001b[39m# Enables dark mode, larger canvas sizes, a pastel palette, and font sizing considerations\u001b[39;00m\n",
      "\u001b[0;31mModuleNotFoundError\u001b[0m: No module named 'src'"
     ]
    }
   ],
   "source": [
    "import pyarrow.parquet as pq\n",
    "\n",
    "set_plot_params() # Enables dark mode, larger canvas sizes, a pastel palette, and font sizing considerations\n",
    "\n",
    "df = pq.read_table('../data/cmp/curated/meter-usage') \\\n",
    "       .to_pandas()"
   ]
  },
  {
   "cell_type": "code",
   "execution_count": null,
   "metadata": {},
   "outputs": [],
   "source": [
    "import pandas as pd\n",
    "import seaborn as sns\n",
    "import matplotlib.pyplot as plt\n",
    "import matplotlib.patches as pch\n",
    "\n",
    "def kdeplot_meter_readings(df: pd.DataFrame):\n",
    "    '''\n",
    "    Visualizes the relationship between time and power consumption for various accounts.\n",
    "\n",
    "    Functionality:\n",
    "    1. Depicts a Kernel Density Estimate (KDE) for each account:\n",
    "       - x   : interval_end_datetime\n",
    "       - y   : kwh\n",
    "       - hue : Distinguished using different colormaps for each account.\n",
    "    2. Displays a custom legend highlighting the color representation for each account.\n",
    "\n",
    "    Parameters:\n",
    "        df (pd.DataFrame) : The smart meter readings dataset as a pandas DataFrame.\n",
    "    '''\n",
    "    \n",
    "    unique_accounts = df['account_number'].unique()\n",
    "    colormaps = ['Greens_r', 'Purples_r', 'Oranges_r', 'Blues_r', 'Reds_r', 'Greys_r', 'cividis']\n",
    "    \n",
    "    for i, account in enumerate(unique_accounts):\n",
    "        subset = df[df['account_number'] == account]\n",
    "        sns.kdeplot(x     = subset['interval_end_datetime'], \n",
    "                    y     = subset['kwh'], \n",
    "                    cmap  = colormaps[i], \n",
    "                    fill  = True, \n",
    "                    alpha = 0.3)\n",
    "\n",
    "    plt.xlabel('Interval End Datetime')\n",
    "    plt.ylabel('KWh')\n",
    "    plt.grid(True)\n",
    "    plt.legend(handles=[pch.Patch(color=sns.color_palette(colormap)[1], \n",
    "                                  label=str(account)) for colormap, account in zip(colormaps, unique_accounts)])\n",
    "\n",
    "kdeplot_meter_readings(df)\n"
   ]
  }
 ],
 "metadata": {
  "kernelspec": {
   "display_name": "general-_2TLGdcO-py3.11",
   "language": "python",
   "name": "python3"
  },
  "language_info": {
   "codemirror_mode": {
    "name": "ipython",
    "version": 3
   },
   "file_extension": ".py",
   "mimetype": "text/x-python",
   "name": "python",
   "nbconvert_exporter": "python",
   "pygments_lexer": "ipython3",
   "version": "3.11.6"
  }
 },
 "nbformat": 4,
 "nbformat_minor": 2
}
