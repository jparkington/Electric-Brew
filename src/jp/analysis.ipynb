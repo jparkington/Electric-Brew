{
 "cells": [
  {
   "cell_type": "code",
   "execution_count": 1,
   "metadata": {},
   "outputs": [
    {
     "ename": "IOException",
     "evalue": "IO Error: Cannot open file \"/Users/Macington/Documents/Projects/Electric Brew/src/jp/./data/sql/electric_brew.db\": No such file or directory",
     "output_type": "error",
     "traceback": [
      "\u001b[0;31m---------------------------------------------------------------------------\u001b[0m",
      "\u001b[0;31mIOException\u001b[0m                               Traceback (most recent call last)",
      "\u001b[1;32m/Users/Macington/Documents/Projects/Electric Brew/src/jp/analysis.ipynb Cell 1\u001b[0m line \u001b[0;36m1\n\u001b[0;32m----> <a href='vscode-notebook-cell:/Users/Macington/Documents/Projects/Electric%20Brew/src/jp/analysis.ipynb#W0sZmlsZQ%3D%3D?line=0'>1</a>\u001b[0m \u001b[39mfrom\u001b[39;00m \u001b[39mutils\u001b[39;00m\u001b[39m.\u001b[39;00m\u001b[39mdataframes\u001b[39;00m \u001b[39mimport\u001b[39;00m \u001b[39m*\u001b[39m\n\u001b[1;32m      <a href='vscode-notebook-cell:/Users/Macington/Documents/Projects/Electric%20Brew/src/jp/analysis.ipynb#W0sZmlsZQ%3D%3D?line=2'>3</a>\u001b[0m meter_usage\n",
      "File \u001b[0;32m~/Documents/Projects/Electric Brew/src/utils/dataframes.py:1\u001b[0m\n\u001b[0;32m----> 1\u001b[0m \u001b[39mfrom\u001b[39;00m \u001b[39mutils\u001b[39;00m\u001b[39m.\u001b[39;00m\u001b[39mruntime\u001b[39;00m \u001b[39mimport\u001b[39;00m read_data\n\u001b[1;32m      3\u001b[0m \u001b[39m'''\u001b[39;00m\n\u001b[1;32m      4\u001b[0m \u001b[39mInitiailizes commonly used DataFrames for easier access across different scripts. All objects listed below are curated \u001b[39;00m\n\u001b[1;32m      5\u001b[0m \u001b[39mand optimized for efficient data operations.\u001b[39;00m\n\u001b[0;32m   (...)\u001b[0m\n\u001b[1;32m     15\u001b[0m \u001b[39m    - fct_electric_brew (pd.DataFrame) : Houses all the model's facts about usage, billing, and the cost of delivery.\u001b[39;00m\n\u001b[1;32m     16\u001b[0m \u001b[39m'''\u001b[39;00m\n\u001b[1;32m     18\u001b[0m \u001b[39m# Curated DataFrames\u001b[39;00m\n",
      "File \u001b[0;32m~/Documents/Projects/Electric Brew/src/utils/runtime.py:84\u001b[0m\n\u001b[1;32m     80\u001b[0m     df \u001b[39m=\u001b[39m pq\u001b[39m.\u001b[39mread_table(full_file_path)\u001b[39m.\u001b[39mto_pandas()\n\u001b[1;32m     82\u001b[0m     \u001b[39mreturn\u001b[39;00m df\n\u001b[0;32m---> 84\u001b[0m \u001b[39mdef\u001b[39;00m \u001b[39mconnect_to_db\u001b[39m(db  : dd\u001b[39m.\u001b[39mDuckDBPyConnection \u001b[39m=\u001b[39m dd\u001b[39m.\u001b[39;49mconnect(\u001b[39m'\u001b[39;49m\u001b[39m./data/sql/electric_brew.db\u001b[39;49m\u001b[39m'\u001b[39;49m),\n\u001b[1;32m     85\u001b[0m                   vws : \u001b[39mdict\u001b[39m \u001b[39m=\u001b[39m {\u001b[39m'\u001b[39m\u001b[39mmeter_usage\u001b[39m\u001b[39m'\u001b[39m       : \u001b[39m'\u001b[39m\u001b[39mcmp/curated/meter_usage\u001b[39m\u001b[39m'\u001b[39m,\n\u001b[1;32m     86\u001b[0m                                 \u001b[39m'\u001b[39m\u001b[39mlocations\u001b[39m\u001b[39m'\u001b[39m         : \u001b[39m'\u001b[39m\u001b[39mcmp/curated/locations\u001b[39m\u001b[39m'\u001b[39m,\n\u001b[1;32m     87\u001b[0m                                 \u001b[39m'\u001b[39m\u001b[39mcmp_bills\u001b[39m\u001b[39m'\u001b[39m         : \u001b[39m'\u001b[39m\u001b[39mcmp/curated/bills\u001b[39m\u001b[39m'\u001b[39m,\n\u001b[1;32m     88\u001b[0m                                 \u001b[39m'\u001b[39m\u001b[39mampion_bills\u001b[39m\u001b[39m'\u001b[39m      : \u001b[39m'\u001b[39m\u001b[39mampion/curated\u001b[39m\u001b[39m'\u001b[39m,\n\u001b[1;32m     89\u001b[0m                                 \u001b[39m'\u001b[39m\u001b[39mdim_datetimes\u001b[39m\u001b[39m'\u001b[39m     : \u001b[39m'\u001b[39m\u001b[39mmodeled/dim_datetimes\u001b[39m\u001b[39m'\u001b[39m,\n\u001b[1;32m     90\u001b[0m                                 \u001b[39m'\u001b[39m\u001b[39mdim_meters\u001b[39m\u001b[39m'\u001b[39m        : \u001b[39m'\u001b[39m\u001b[39mmodeled/dim_meters\u001b[39m\u001b[39m'\u001b[39m,\n\u001b[1;32m     91\u001b[0m                                 \u001b[39m'\u001b[39m\u001b[39mdim_bills\u001b[39m\u001b[39m'\u001b[39m         : \u001b[39m'\u001b[39m\u001b[39mmodeled/dim_bills\u001b[39m\u001b[39m'\u001b[39m,\n\u001b[1;32m     92\u001b[0m                                 \u001b[39m'\u001b[39m\u001b[39mfct_electric_brew\u001b[39m\u001b[39m'\u001b[39m : \u001b[39m'\u001b[39m\u001b[39mmodeled/fct_electric_brew\u001b[39m\u001b[39m'\u001b[39m}) \u001b[39m-\u001b[39m\u001b[39m>\u001b[39m dd\u001b[39m.\u001b[39mDuckDBPyConnection:\n\u001b[1;32m     93\u001b[0m \u001b[39m    \u001b[39m\u001b[39m'''\u001b[39;00m\n\u001b[1;32m     94\u001b[0m \u001b[39m    This function creates views in a DuckDB database for the Electric Brew project by reading data from \u001b[39;00m\n\u001b[1;32m     95\u001b[0m \u001b[39m    parquet files. It leverages DuckDB's ability to directly query Parquet files, which simplifies the \u001b[39;00m\n\u001b[0;32m   (...)\u001b[0m\n\u001b[1;32m    111\u001b[0m \u001b[39m        duckdb.DuckDBPyConnection: The connected DuckDB database instance.\u001b[39;00m\n\u001b[1;32m    112\u001b[0m \u001b[39m    '''\u001b[39;00m\n\u001b[1;32m    114\u001b[0m     \u001b[39mfor\u001b[39;00m k, v \u001b[39min\u001b[39;00m vws\u001b[39m.\u001b[39mitems():\n",
      "\u001b[0;31mIOException\u001b[0m: IO Error: Cannot open file \"/Users/Macington/Documents/Projects/Electric Brew/src/jp/./data/sql/electric_brew.db\": No such file or directory"
     ]
    }
   ],
   "source": [
    "from utils.dataframes import *\n",
    "\n",
    "meter_usage"
   ]
  }
 ],
 "metadata": {
  "kernelspec": {
   "display_name": "electric-brew",
   "language": "python",
   "name": "python3"
  },
  "language_info": {
   "codemirror_mode": {
    "name": "ipython",
    "version": 3
   },
   "file_extension": ".py",
   "mimetype": "text/x-python",
   "name": "python",
   "nbconvert_exporter": "python",
   "pygments_lexer": "ipython3",
   "version": "3.11.6"
  }
 },
 "nbformat": 4,
 "nbformat_minor": 2
}
