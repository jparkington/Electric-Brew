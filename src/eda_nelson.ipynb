{
 "cells": [
  {
   "attachments": {},
   "cell_type": "markdown",
   "metadata": {},
   "source": [
    "# Explortatory Data Analysis\n",
    "\n",
    "___"
   ]
  },
  {
   "attachments": {},
   "cell_type": "markdown",
   "metadata": {},
   "source": [
    " ## Packages"
   ]
  },
  {
   "cell_type": "code",
   "execution_count": 5,
   "metadata": {},
   "outputs": [],
   "source": [
    "import matplotlib.pyplot as plt\n",
    "import pyarrow.parquet   as pq\n",
    "import numpy as np\n",
    "import seaborn as sns  \n",
    "import pandas as pd"
   ]
  },
  {
   "attachments": {},
   "cell_type": "markdown",
   "metadata": {},
   "source": [
    "## Read in Data"
   ]
  },
  {
   "cell_type": "code",
   "execution_count": 17,
   "metadata": {},
   "outputs": [],
   "source": [
    "df = pq.read_table('../data/cmp/curated/meter-usage').to_pandas()\n"
   ]
  },
  {
   "attachments": {},
   "cell_type": "markdown",
   "metadata": {},
   "source": [
    "## Display General Information"
   ]
  },
  {
   "cell_type": "code",
   "execution_count": 18,
   "metadata": {},
   "outputs": [
    {
     "name": "stdout",
     "output_type": "stream",
     "text": [
      "<class 'pandas.core.frame.DataFrame'>\n",
      "RangeIndex: 500280 entries, 0 to 500279\n",
      "Data columns (total 6 columns):\n",
      " #   Column                 Non-Null Count   Dtype   \n",
      "---  ------                 --------------   -----   \n",
      " 0   service_point_id       500280 non-null  int64   \n",
      " 1   meter_id               500280 non-null  object  \n",
      " 2   interval_end_datetime  500280 non-null  object  \n",
      " 3   meter_channel          500280 non-null  int64   \n",
      " 4   kwh                    500280 non-null  float64 \n",
      " 5   account_number         500280 non-null  category\n",
      "dtypes: category(1), float64(1), int64(2), object(2)\n",
      "memory usage: 19.6+ MB\n"
     ]
    }
   ],
   "source": [
    "df.info()"
   ]
  },
  {
   "cell_type": "code",
   "execution_count": 33,
   "metadata": {},
   "outputs": [
    {
     "data": {
      "text/html": [
       "<div>\n",
       "<style scoped>\n",
       "    .dataframe tbody tr th:only-of-type {\n",
       "        vertical-align: middle;\n",
       "    }\n",
       "\n",
       "    .dataframe tbody tr th {\n",
       "        vertical-align: top;\n",
       "    }\n",
       "\n",
       "    .dataframe thead th {\n",
       "        text-align: right;\n",
       "    }\n",
       "</style>\n",
       "<table border=\"1\" class=\"dataframe\">\n",
       "  <thead>\n",
       "    <tr style=\"text-align: right;\">\n",
       "      <th></th>\n",
       "      <th>service_point_id</th>\n",
       "      <th>meter_id</th>\n",
       "      <th>interval_end_datetime</th>\n",
       "      <th>meter_channel</th>\n",
       "      <th>kwh</th>\n",
       "      <th>account_number</th>\n",
       "      <th>year</th>\n",
       "    </tr>\n",
       "  </thead>\n",
       "  <tbody>\n",
       "    <tr>\n",
       "      <th>0</th>\n",
       "      <td>2300822246</td>\n",
       "      <td>L108605388</td>\n",
       "      <td>2022-10-01 00:00:00</td>\n",
       "      <td>10</td>\n",
       "      <td>0.594</td>\n",
       "      <td>30010320353</td>\n",
       "      <td>2022</td>\n",
       "    </tr>\n",
       "    <tr>\n",
       "      <th>1</th>\n",
       "      <td>2300822246</td>\n",
       "      <td>L108605388</td>\n",
       "      <td>2022-10-01 00:15:00</td>\n",
       "      <td>10</td>\n",
       "      <td>0.101</td>\n",
       "      <td>30010320353</td>\n",
       "      <td>2022</td>\n",
       "    </tr>\n",
       "    <tr>\n",
       "      <th>2</th>\n",
       "      <td>2300822246</td>\n",
       "      <td>L108605388</td>\n",
       "      <td>2022-10-01 00:30:00</td>\n",
       "      <td>10</td>\n",
       "      <td>0.104</td>\n",
       "      <td>30010320353</td>\n",
       "      <td>2022</td>\n",
       "    </tr>\n",
       "    <tr>\n",
       "      <th>3</th>\n",
       "      <td>2300822246</td>\n",
       "      <td>L108605388</td>\n",
       "      <td>2022-10-01 00:45:00</td>\n",
       "      <td>10</td>\n",
       "      <td>0.106</td>\n",
       "      <td>30010320353</td>\n",
       "      <td>2022</td>\n",
       "    </tr>\n",
       "    <tr>\n",
       "      <th>4</th>\n",
       "      <td>2300822246</td>\n",
       "      <td>L108605388</td>\n",
       "      <td>2022-10-01 01:00:00</td>\n",
       "      <td>10</td>\n",
       "      <td>0.099</td>\n",
       "      <td>30010320353</td>\n",
       "      <td>2022</td>\n",
       "    </tr>\n",
       "  </tbody>\n",
       "</table>\n",
       "</div>"
      ],
      "text/plain": [
       "   service_point_id    meter_id interval_end_datetime  meter_channel    kwh  \\\n",
       "0        2300822246  L108605388   2022-10-01 00:00:00             10  0.594   \n",
       "1        2300822246  L108605388   2022-10-01 00:15:00             10  0.101   \n",
       "2        2300822246  L108605388   2022-10-01 00:30:00             10  0.104   \n",
       "3        2300822246  L108605388   2022-10-01 00:45:00             10  0.106   \n",
       "4        2300822246  L108605388   2022-10-01 01:00:00             10  0.099   \n",
       "\n",
       "  account_number  year  \n",
       "0    30010320353  2022  \n",
       "1    30010320353  2022  \n",
       "2    30010320353  2022  \n",
       "3    30010320353  2022  \n",
       "4    30010320353  2022  "
      ]
     },
     "execution_count": 33,
     "metadata": {},
     "output_type": "execute_result"
    }
   ],
   "source": [
    "df.head()\n"
   ]
  },
  {
   "cell_type": "code",
   "execution_count": 29,
   "metadata": {},
   "outputs": [
    {
     "data": {
      "text/html": [
       "<div>\n",
       "<style scoped>\n",
       "    .dataframe tbody tr th:only-of-type {\n",
       "        vertical-align: middle;\n",
       "    }\n",
       "\n",
       "    .dataframe tbody tr th {\n",
       "        vertical-align: top;\n",
       "    }\n",
       "\n",
       "    .dataframe thead th {\n",
       "        text-align: right;\n",
       "    }\n",
       "</style>\n",
       "<table border=\"1\" class=\"dataframe\">\n",
       "  <thead>\n",
       "    <tr style=\"text-align: right;\">\n",
       "      <th></th>\n",
       "      <th>interval_end_datetime</th>\n",
       "      <th>max_kwh</th>\n",
       "    </tr>\n",
       "  </thead>\n",
       "  <tbody>\n",
       "    <tr>\n",
       "      <th>0</th>\n",
       "      <td>2020-10-08</td>\n",
       "      <td>8.329</td>\n",
       "    </tr>\n",
       "    <tr>\n",
       "      <th>1</th>\n",
       "      <td>2020-10-09</td>\n",
       "      <td>4.966</td>\n",
       "    </tr>\n",
       "    <tr>\n",
       "      <th>2</th>\n",
       "      <td>2020-10-10</td>\n",
       "      <td>4.180</td>\n",
       "    </tr>\n",
       "    <tr>\n",
       "      <th>3</th>\n",
       "      <td>2020-10-11</td>\n",
       "      <td>3.514</td>\n",
       "    </tr>\n",
       "    <tr>\n",
       "      <th>4</th>\n",
       "      <td>2020-10-12</td>\n",
       "      <td>8.618</td>\n",
       "    </tr>\n",
       "    <tr>\n",
       "      <th>...</th>\n",
       "      <td>...</td>\n",
       "      <td>...</td>\n",
       "    </tr>\n",
       "    <tr>\n",
       "      <th>1083</th>\n",
       "      <td>2023-09-26</td>\n",
       "      <td>5.015</td>\n",
       "    </tr>\n",
       "    <tr>\n",
       "      <th>1084</th>\n",
       "      <td>2023-09-27</td>\n",
       "      <td>4.887</td>\n",
       "    </tr>\n",
       "    <tr>\n",
       "      <th>1085</th>\n",
       "      <td>2023-09-28</td>\n",
       "      <td>5.843</td>\n",
       "    </tr>\n",
       "    <tr>\n",
       "      <th>1086</th>\n",
       "      <td>2023-09-29</td>\n",
       "      <td>7.646</td>\n",
       "    </tr>\n",
       "    <tr>\n",
       "      <th>1087</th>\n",
       "      <td>2023-09-30</td>\n",
       "      <td>3.398</td>\n",
       "    </tr>\n",
       "  </tbody>\n",
       "</table>\n",
       "<p>1088 rows × 2 columns</p>\n",
       "</div>"
      ],
      "text/plain": [
       "     interval_end_datetime  max_kwh\n",
       "0               2020-10-08    8.329\n",
       "1               2020-10-09    4.966\n",
       "2               2020-10-10    4.180\n",
       "3               2020-10-11    3.514\n",
       "4               2020-10-12    8.618\n",
       "...                    ...      ...\n",
       "1083            2023-09-26    5.015\n",
       "1084            2023-09-27    4.887\n",
       "1085            2023-09-28    5.843\n",
       "1086            2023-09-29    7.646\n",
       "1087            2023-09-30    3.398\n",
       "\n",
       "[1088 rows x 2 columns]"
      ]
     },
     "execution_count": 29,
     "metadata": {},
     "output_type": "execute_result"
    }
   ],
   "source": [
    "df['interval_end_datetime'] = pd.to_datetime(df['interval_end_datetime'], format='%m/%d/%Y %I:%M:%S %p')\n",
    "df['year'] = df['interval_end_datetime'].dt.year\n",
    "\n",
    "df_fil = df.groupby(df['interval_end_datetime'].dt.floor('d'))['kwh'].max().to_frame().rename(columns = {'kwh':'max_kwh'}).reset_index()\n",
    "\n",
    "df_fil\n",
    "\n"
   ]
  },
  {
   "cell_type": "code",
   "execution_count": 31,
   "metadata": {},
   "outputs": [
    {
     "data": {
      "text/plain": [
       "<Axes: xlabel='interval_end_datetime', ylabel='max_kwh'>"
      ]
     },
     "execution_count": 31,
     "metadata": {},
     "output_type": "execute_result"
    },
    {
     "data": {
      "image/png": "[encoded data removed]",
      "text/plain": [
       "<Figure size 640x480 with 1 Axes>"
      ]
     },
     "metadata": {},
     "output_type": "display_data"
    }
   ],
   "source": [
    "sns.lineplot(data = df_fil, x = df.interval_end_datetime.dt.day, y = 'max_kwh', hue = df.interval_end_datetime.dt.year)"
   ]
  },
  {
   "cell_type": "code",
   "execution_count": null,
   "metadata": {},
   "outputs": [],
   "source": [
    "df."
   ]
  }
 ],
 "metadata": {
  "kernelspec": {
   "display_name": "base",
   "language": "python",
   "name": "python3"
  },
  "language_info": {
   "codemirror_mode": {
    "name": "ipython",
    "version": 3
   },
   "file_extension": ".py",
   "mimetype": "text/x-python",
   "name": "python",
   "nbconvert_exporter": "python",
   "pygments_lexer": "ipython3",
   "version": "3.10.13"
  },
  "orig_nbformat": 4,
  "vscode": {
   "interpreter": {
    "hash": "b25db031a3502ba4f4c45dd02aff38e25890d017eb8ebee2aa400bebb802161e"
   }
  }
 },
 "nbformat": 4,
 "nbformat_minor": 2
}
